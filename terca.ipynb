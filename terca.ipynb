{
  "nbformat": 4,
  "nbformat_minor": 0,
  "metadata": {
    "colab": {
      "provenance": [],
      "toc_visible": true,
      "include_colab_link": true
    },
    "kernelspec": {
      "name": "python3",
      "display_name": "Python 3"
    },
    "language_info": {
      "name": "python"
    }
  },
  "cells": [
    {
      "cell_type": "markdown",
      "metadata": {
        "id": "view-in-github",
        "colab_type": "text"
      },
      "source": [
        "<a href=\"https://colab.research.google.com/github/OKaze027/First_repositorio/blob/main/terca.ipynb\" target=\"_parent\"><img src=\"https://colab.research.google.com/assets/colab-badge.svg\" alt=\"Open In Colab\"/></a>"
      ]
    },
    {
      "cell_type": "code",
      "execution_count": null,
      "metadata": {
        "colab": {
          "base_uri": "https://localhost:8080/"
        },
        "id": "RXumNnxalcP5",
        "outputId": "333d402f-89a6-403f-f845-be6b960fd8fc"
      },
      "outputs": [
        {
          "output_type": "stream",
          "name": "stdout",
          "text": [
            "1\n",
            "edu\n"
          ]
        }
      ],
      "source": [
        "print(1)\n",
        "print(\"edu\")"
      ]
    },
    {
      "cell_type": "markdown",
      "source": [
        "#variaveis"
      ],
      "metadata": {
        "id": "skxVMC1IoBWe"
      }
    },
    {
      "cell_type": "code",
      "source": [
        "#como escreve variaveis\n",
        "#normal\n",
        "num = 10\n",
        "numdois = 20\n",
        "#camelcase\n",
        "saldoBancarioDeHoje = 1000\n",
        "#snakecase\n",
        "saldo_bancario_de_ontem = -10000\n",
        "\n",
        "#Variavel nunca pode comecar com numero\n",
        "#Uma variavel nunca pode ter espaco, use o underline\n",
        "#Nao utilize estes simbolos /\\<>|()!@#$%&*-+\n",
        "#SEMPRE DEVE COMECAR POR LETRA MINUSCULA"
      ],
      "metadata": {
        "id": "YLOyDOlKoUaF"
      },
      "execution_count": null,
      "outputs": []
    },
    {
      "cell_type": "code",
      "source": [
        "print(saldo_bancario_de_ontem)\n",
        "print(\"Seu saldo bancario de ontem:\",saldo_bancario_de_ontem)"
      ],
      "metadata": {
        "colab": {
          "base_uri": "https://localhost:8080/"
        },
        "id": "TJdMmZ7FpVav",
        "outputId": "eca03c71-ec27-4b54-b80f-55c52a95b828"
      },
      "execution_count": null,
      "outputs": [
        {
          "output_type": "stream",
          "name": "stdout",
          "text": [
            "-10000\n",
            "Seu saldo bancario de ontem: -10000\n"
          ]
        }
      ]
    },
    {
      "cell_type": "markdown",
      "source": [
        "#tipo de numero"
      ],
      "metadata": {
        "id": "WhRoZxBuqFrW"
      }
    },
    {
      "cell_type": "code",
      "source": [
        "inteiro = 10\n",
        "\n",
        "type(inteiro)"
      ],
      "metadata": {
        "colab": {
          "base_uri": "https://localhost:8080/"
        },
        "id": "eS-vT5lBqHpU",
        "outputId": "6bf11cdb-23a9-43a2-9fab-54e8491d64d3"
      },
      "execution_count": null,
      "outputs": [
        {
          "output_type": "execute_result",
          "data": {
            "text/plain": [
              "int"
            ]
          },
          "metadata": {},
          "execution_count": 12
        }
      ]
    },
    {
      "cell_type": "code",
      "source": [
        "decimal = 10.5\n",
        "\n",
        "type(decimal)"
      ],
      "metadata": {
        "colab": {
          "base_uri": "https://localhost:8080/"
        },
        "id": "DV07lkIiqfWX",
        "outputId": "058d6d1f-b3d7-4ec0-933a-50d4396347c3"
      },
      "execution_count": null,
      "outputs": [
        {
          "output_type": "execute_result",
          "data": {
            "text/plain": [
              "float"
            ]
          },
          "metadata": {},
          "execution_count": 15
        }
      ]
    },
    {
      "cell_type": "code",
      "source": [
        "#adicao\n",
        "1 + 1\n",
        "#subtracao\n",
        "1 - 1\n",
        "#divisao\n",
        "14/7\n",
        "#multiplicacao\n",
        "4*9\n",
        "#exponencial\n",
        "10**2"
      ],
      "metadata": {
        "colab": {
          "base_uri": "https://localhost:8080/"
        },
        "id": "7SoMPxAKrC_0",
        "outputId": "89314908-4671-4674-aac1-8bcede9d76fd"
      },
      "execution_count": null,
      "outputs": [
        {
          "output_type": "execute_result",
          "data": {
            "text/plain": [
              "100"
            ]
          },
          "metadata": {},
          "execution_count": 20
        }
      ]
    },
    {
      "cell_type": "code",
      "source": [
        "#ordem das operacoes\n",
        "10 + 10 * 10"
      ],
      "metadata": {
        "colab": {
          "base_uri": "https://localhost:8080/"
        },
        "id": "psqHhiK7rd0E",
        "outputId": "ef511a1e-16a6-49a3-c69a-ca101ff6c3d3"
      },
      "execution_count": null,
      "outputs": [
        {
          "output_type": "execute_result",
          "data": {
            "text/plain": [
              "110"
            ]
          },
          "metadata": {},
          "execution_count": 21
        }
      ]
    },
    {
      "cell_type": "code",
      "source": [
        "#como especificar a ordem das operacoes\n",
        "(2 + 10) * (10 - 5)"
      ],
      "metadata": {
        "colab": {
          "base_uri": "https://localhost:8080/"
        },
        "id": "RpLZ-rFYrxw9",
        "outputId": "58c6d578-9ce3-4f5d-f174-c50ab238c5db"
      },
      "execution_count": null,
      "outputs": [
        {
          "output_type": "execute_result",
          "data": {
            "text/plain": [
              "60"
            ]
          },
          "metadata": {},
          "execution_count": 22
        }
      ]
    },
    {
      "cell_type": "code",
      "source": [
        "numero = 10\n",
        "print(numero)\n",
        "numero + numero\n",
        "print(numero)\n",
        "numero = 30\n",
        "print(numero)\n",
        "numero = numero + numero\n",
        "print(numero)"
      ],
      "metadata": {
        "colab": {
          "base_uri": "https://localhost:8080/"
        },
        "id": "28w71WuswqMR",
        "outputId": "b432bcff-2e71-4b46-d9bb-72eaab4db22a"
      },
      "execution_count": null,
      "outputs": [
        {
          "output_type": "stream",
          "name": "stdout",
          "text": [
            "10\n",
            "10\n",
            "30\n",
            "60\n"
          ]
        }
      ]
    },
    {
      "cell_type": "code",
      "source": [
        "#Escreva um programa que imprima seu nome na tela.\n",
        "print(\"Seu Nome\")"
      ],
      "metadata": {
        "colab": {
          "base_uri": "https://localhost:8080/"
        },
        "id": "oh4fZ70ZyV7g",
        "outputId": "804e8254-4b01-49fd-9771-a6bdb281d5ba"
      },
      "execution_count": null,
      "outputs": [
        {
          "output_type": "stream",
          "name": "stdout",
          "text": [
            "Seu Nome\n"
          ]
        }
      ]
    },
    {
      "cell_type": "code",
      "source": [
        "#Declare duas variáveis com números e imprima a soma deles.\n",
        "num1 = 5\n",
        "num2 = 3\n",
        "print(num1 + num2)\n",
        "\n",
        "num1 = 5\n",
        "num2 = 3\n",
        "soma = num1 + num2\n",
        "print(\"O resultado da soma é: \",soma)"
      ],
      "metadata": {
        "colab": {
          "base_uri": "https://localhost:8080/"
        },
        "id": "Ejyyo2mvyhj_",
        "outputId": "3d019230-fd00-4424-afe0-17f76e939b85"
      },
      "execution_count": null,
      "outputs": [
        {
          "output_type": "stream",
          "name": "stdout",
          "text": [
            "8\n",
            "O resultado da soma é:  8\n"
          ]
        }
      ]
    },
    {
      "cell_type": "code",
      "source": [
        "#Declare uma variável com uma mensagem pessoal e imprima-a.\n",
        "mensagem = \"Olá! Eu estou aprendendo Python.\"\n",
        "print(mensagem)"
      ],
      "metadata": {
        "colab": {
          "base_uri": "https://localhost:8080/"
        },
        "id": "br2ZkChryhtX",
        "outputId": "c5ba6bd1-1365-45a8-f88f-8648ee5064df"
      },
      "execution_count": null,
      "outputs": [
        {
          "output_type": "stream",
          "name": "stdout",
          "text": [
            "Olá! Eu estou aprendendo Python.\n"
          ]
        }
      ]
    },
    {
      "cell_type": "code",
      "source": [
        "#Declare duas variáveis com valores numéricos e imprima a soma, subtração, multiplicação e divisão delas.\n",
        "num1 = 8\n",
        "num2 = 4\n",
        "soma = num1 + num2\n",
        "subtracao = num1 - num2\n",
        "multiplicacao = num1 * num2\n",
        "divisao = num1 / num2\n",
        "exponencial = num1 ** num2\n",
        "\n",
        "print(\"soma: \", soma)\n",
        "print(\"subtracao: \", subtracao)\n",
        "print(\"multiplicacao: \", multiplicacao)\n",
        "print(\"divisao: \", divisao)\n",
        "print(\"Exponencial: \", exponencial)"
      ],
      "metadata": {
        "colab": {
          "base_uri": "https://localhost:8080/"
        },
        "id": "RknJwSuZ0Irp",
        "outputId": "f5f16ed9-a7f6-4488-ee61-777c25061bb9"
      },
      "execution_count": null,
      "outputs": [
        {
          "output_type": "stream",
          "name": "stdout",
          "text": [
            "soma:  12\n",
            "subtracao:  4\n",
            "multiplicacao:  32\n",
            "divisao:  2.0\n",
            "Exponencial|:  4096\n"
          ]
        }
      ]
    },
    {
      "cell_type": "markdown",
      "source": [
        "#STRING"
      ],
      "metadata": {
        "id": "zuJBx8Q3lBE4"
      }
    },
    {
      "cell_type": "code",
      "source": [
        "#uma palavra\n",
        "string1 = \"Oi!\"\n",
        "#uma frase\n",
        "string2 = \"Oi, como voce está?\"\n",
        "#uma frase com aspas simples\n",
        "string3 = 'Benicio ruinzao no brawl stars'\n"
      ],
      "metadata": {
        "id": "u4ObOZMdlDI0"
      },
      "execution_count": null,
      "outputs": []
    },
    {
      "cell_type": "code",
      "source": [
        "print(string1)\n",
        "print(string2)\n",
        "print(string3)"
      ],
      "metadata": {
        "colab": {
          "base_uri": "https://localhost:8080/"
        },
        "id": "k2JxT_LLmEeV",
        "outputId": "506f2697-4818-4008-f8d7-73de2c907dfc"
      },
      "execution_count": null,
      "outputs": [
        {
          "output_type": "stream",
          "name": "stdout",
          "text": [
            "Oi!\n",
            "Oi, como voce está?\n",
            "Benicio ruinzao no bral stars\n"
          ]
        }
      ]
    },
    {
      "cell_type": "code",
      "source": [
        "#Como utilizar as \"\" numa string\n",
        "string4 = 'Benicio é \"Bonito\"'\n",
        "print(string4)"
      ],
      "metadata": {
        "colab": {
          "base_uri": "https://localhost:8080/"
        },
        "id": "Nj0eWyFrnkGU",
        "outputId": "b1d80d85-f08a-476d-9886-48ea64691150"
      },
      "execution_count": null,
      "outputs": [
        {
          "output_type": "stream",
          "name": "stdout",
          "text": [
            "Benicio é \"Bonito\"\n"
          ]
        }
      ]
    },
    {
      "cell_type": "code",
      "source": [
        "#tres formas de imprimir uma string\n",
        "string5 = \"teste\"\n",
        "print(string5)\n",
        "print(\"teste\")\n",
        "'teste'"
      ],
      "metadata": {
        "colab": {
          "base_uri": "https://localhost:8080/",
          "height": 71
        },
        "id": "GyZIYZawovNU",
        "outputId": "c3eafe11-9f03-4875-e9b6-21d1702c62a1"
      },
      "execution_count": null,
      "outputs": [
        {
          "output_type": "stream",
          "name": "stdout",
          "text": [
            "teste\n",
            "teste\n"
          ]
        },
        {
          "output_type": "execute_result",
          "data": {
            "text/plain": [
              "'teste'"
            ],
            "application/vnd.google.colaboratory.intrinsic+json": {
              "type": "string"
            }
          },
          "metadata": {},
          "execution_count": 12
        }
      ]
    },
    {
      "cell_type": "code",
      "source": [
        "#utilizar \\n para saltar linhas\n",
        "print(\"Saltando agora \\nsaltei \\n!\")"
      ],
      "metadata": {
        "colab": {
          "base_uri": "https://localhost:8080/"
        },
        "id": "zT19oI5_qB-T",
        "outputId": "0c78e28e-54dd-4c01-f62f-e3677b10522b"
      },
      "execution_count": null,
      "outputs": [
        {
          "output_type": "stream",
          "name": "stdout",
          "text": [
            "Saltando agora \n",
            "saltei \n",
            "!\n"
          ]
        }
      ]
    },
    {
      "cell_type": "code",
      "source": [
        "#utilizar \\t para dar espaços maiores\n",
        "print(\"Estou saltando \\tsaltado!\")"
      ],
      "metadata": {
        "colab": {
          "base_uri": "https://localhost:8080/"
        },
        "id": "bIczQiQXq2R8",
        "outputId": "b92bf745-6208-459f-a4b0-770b6835bccf"
      },
      "execution_count": null,
      "outputs": [
        {
          "output_type": "stream",
          "name": "stdout",
          "text": [
            "Estou saltando \tsaltado!\n"
          ]
        }
      ]
    },
    {
      "cell_type": "code",
      "source": [
        "#veja quantos caracteres forma a frase\n",
        "frase = \"O papaleguas\"\n",
        "len(frase)"
      ],
      "metadata": {
        "colab": {
          "base_uri": "https://localhost:8080/"
        },
        "id": "lveYlYnwrzip",
        "outputId": "156e3d9a-c16d-4692-ba5a-9c866e7f4bfd"
      },
      "execution_count": null,
      "outputs": [
        {
          "output_type": "execute_result",
          "data": {
            "text/plain": [
              "12"
            ]
          },
          "metadata": {},
          "execution_count": 24
        }
      ]
    },
    {
      "cell_type": "code",
      "source": [
        "#indexação de string\n",
        "nome = \"Fulano da Silva Sauro\"\n",
        "#Imprimindo a primeira letra do nome\n",
        "print(nome[0])"
      ],
      "metadata": {
        "colab": {
          "base_uri": "https://localhost:8080/"
        },
        "id": "4stNK6-cuY4Q",
        "outputId": "f7b7a52b-5cbb-4c06-93ca-5627398eb207"
      },
      "execution_count": null,
      "outputs": [
        {
          "output_type": "stream",
          "name": "stdout",
          "text": [
            "F\n"
          ]
        }
      ]
    },
    {
      "cell_type": "code",
      "source": [
        "#Imprimindo a partir de um caractere\n",
        "print(nome[7:])\n",
        "#Imprimindo até um caractere\n",
        "print(nome[:7])\n",
        "#imprimir uma parte especifica\n",
        "print(nome[10:15])\n",
        "#imprimir retrocedendo\n",
        "print(nome[-1])\n",
        "#tudo menos a utima letra\n",
        "print(nome[:-1])"
      ],
      "metadata": {
        "colab": {
          "base_uri": "https://localhost:8080/"
        },
        "id": "vFJWQV_6vkLP",
        "outputId": "e1419ae3-e8ed-4618-e298-c94c7ddf255d"
      },
      "execution_count": null,
      "outputs": [
        {
          "output_type": "stream",
          "name": "stdout",
          "text": [
            "da Silva Sauro\n",
            "Fulano \n",
            "Silva\n",
            "o\n",
            "Fulano da Silva Saur\n"
          ]
        }
      ]
    },
    {
      "cell_type": "code",
      "source": [
        "#imprimir uma frase saltando letras de 2 em 2\n",
        "frase = \"Tsamina mina, eh, eh Waka waka, eh, eh Tsamina mina zangalewa\"\n",
        "print(frase[::2])"
      ],
      "metadata": {
        "colab": {
          "base_uri": "https://localhost:8080/"
        },
        "id": "jOB5Ot_G1d51",
        "outputId": "42e9b787-284e-4a0e-9aab-7815e37054c8"
      },
      "execution_count": null,
      "outputs": [
        {
          "output_type": "stream",
          "name": "stdout",
          "text": [
            "Taiamn,e,e aawk,e,e smn iaznaea\n"
          ]
        }
      ]
    },
    {
      "cell_type": "code",
      "source": [
        "#para encontrar caracteres dentro de uma string use o find()\n",
        "email = \"tsaminaeheh@Wakawaka.com.af\"\n",
        "print(email.find(\"@\"))"
      ],
      "metadata": {
        "colab": {
          "base_uri": "https://localhost:8080/"
        },
        "id": "4v4GaU863yQ6",
        "outputId": "f655b190-1910-4cf6-ef97-9db59ac09e76"
      },
      "execution_count": null,
      "outputs": [
        {
          "output_type": "stream",
          "name": "stdout",
          "text": [
            "11\n"
          ]
        }
      ]
    },
    {
      "cell_type": "code",
      "source": [
        "#utilize a função count para contar caracteres dentro de uma string\n",
        "email = \"tsaminaeheh@Wakawaka.com.af\"\n",
        "print(email.count(\".\"))"
      ],
      "metadata": {
        "colab": {
          "base_uri": "https://localhost:8080/"
        },
        "id": "Cy3ms9ZE59Jv",
        "outputId": "e0dd6023-e1dd-43dd-e11c-569ba84d6602"
      },
      "execution_count": null,
      "outputs": [
        {
          "output_type": "stream",
          "name": "stdout",
          "text": [
            "2\n"
          ]
        }
      ]
    },
    {
      "cell_type": "code",
      "source": [
        "#OPERADORES EM STRINGS\n",
        "\n",
        "#concatenação\n",
        "nome = \"José\"\n",
        "sobrenome = \" Bevidari\"\n",
        "print(nome+sobrenome)\n",
        "\n",
        "#repetição\n",
        "print(nome *3)"
      ],
      "metadata": {
        "colab": {
          "base_uri": "https://localhost:8080/"
        },
        "id": "87fMyT8R6hHi",
        "outputId": "926550ea-c79b-4c95-cc33-01096efeb4b2"
      },
      "execution_count": null,
      "outputs": [
        {
          "output_type": "stream",
          "name": "stdout",
          "text": [
            "José Bevidari\n",
            "JoséJoséJosé\n"
          ]
        }
      ]
    },
    {
      "cell_type": "code",
      "source": [
        "#numero nao podem ser conctenados com strings\n",
        "numero_de_irmaos = 2\n",
        "\n",
        "#use  funcao str() pois ela transforma numeros em strings\n",
        "print(\"Voce tem \" + str(numero_de_irmaos) + \" irmaos\")"
      ],
      "metadata": {
        "colab": {
          "base_uri": "https://localhost:8080/"
        },
        "id": "j-PcRbx57TWv",
        "outputId": "b8c29722-f5c4-42b9-dfab-2f7dcfeb8aba"
      },
      "execution_count": null,
      "outputs": [
        {
          "output_type": "stream",
          "name": "stdout",
          "text": [
            "Voce tem 2 irmaos\n"
          ]
        }
      ]
    },
    {
      "cell_type": "markdown",
      "source": [
        "#Listas e matrizes\n"
      ],
      "metadata": {
        "id": "vm0tkNqdqHoF"
      }
    },
    {
      "cell_type": "code",
      "source": [
        "#Como criar uma lista\n",
        "\n",
        "alunos = [\"Riquelme\", \"Benicio\", \"David\", \"Vinicius\", \"Eduardo\"]\n",
        "print(alunos)"
      ],
      "metadata": {
        "colab": {
          "base_uri": "https://localhost:8080/"
        },
        "id": "W4UsC_B_qNi8",
        "outputId": "58d0ed6f-9fa1-4a33-fc0b-4ca194481420"
      },
      "execution_count": null,
      "outputs": [
        {
          "output_type": "stream",
          "name": "stdout",
          "text": [
            "['Riquelme', 'Benicio', 'David', 'Vinicius', 'Eduardo']\n"
          ]
        }
      ]
    },
    {
      "cell_type": "code",
      "source": [
        "#Como exibir um indicie em especifico\n",
        "\n",
        "alunos = [\"Riquelme\", \"Benicio\", \"David\", \"Vinicius\", \"Eduardo\"]\n",
        "print(\"Primeiro aluno desta turma: \" + alunos[0])\n",
        "#os indicies em python comecam do valor 0"
      ],
      "metadata": {
        "colab": {
          "base_uri": "https://localhost:8080/"
        },
        "id": "mBHMLDZSr_c9",
        "outputId": "fa5b47e0-32d4-4835-e2f8-d7521deaed5e"
      },
      "execution_count": null,
      "outputs": [
        {
          "output_type": "stream",
          "name": "stdout",
          "text": [
            "Primeiro aluno desta turma: Riquelme\n"
          ]
        }
      ]
    },
    {
      "cell_type": "code",
      "source": [
        "#Como exibir um indicie em especifico\n",
        "\n",
        "alunos = [\"Riquelme\", \"Benicio\", \"David\", \"Vinicius\", \"Eduardo\"]\n",
        "print(\"Ultimo aluno desta turma: \" + alunos[-1])\n",
        "#os indicies em python comecam do valor 0"
      ],
      "metadata": {
        "colab": {
          "base_uri": "https://localhost:8080/"
        },
        "id": "fRRm7Gu7vCk2",
        "outputId": "df4178cc-b125-4913-9500-026bcce136b2"
      },
      "execution_count": null,
      "outputs": [
        {
          "output_type": "stream",
          "name": "stdout",
          "text": [
            "Ultimo aluno desta turma: Eduardo\n"
          ]
        }
      ]
    },
    {
      "cell_type": "code",
      "source": [
        "#Como substituir algo na lista\n",
        "\n",
        "alunos = [\"Riquelme\", \"Benicio\", \"David\", \"Vinicius\", \"Eduardo\"]\n",
        "alunos[4] = \"Patolino\"\n",
        "print(alunos)"
      ],
      "metadata": {
        "colab": {
          "base_uri": "https://localhost:8080/"
        },
        "id": "B7xlh1Kxv3k7",
        "outputId": "bb9cf84a-a2af-4fc8-ea96-88b65fc273c3"
      },
      "execution_count": null,
      "outputs": [
        {
          "output_type": "stream",
          "name": "stdout",
          "text": [
            "['Riquelme', 'Benicio', 'David', 'Vinicius', 'Patolino']\n"
          ]
        }
      ]
    },
    {
      "cell_type": "code",
      "source": [
        "#Como acrescentar itens dentro da lista\n",
        "\n",
        "alunos = [\"Riquelme\", \"Benicio\", \"David\", \"Vinicius\", \"Eduardo\"]\n",
        "alunos.append(\"Joaquim\")\n",
        "print(alunos)"
      ],
      "metadata": {
        "colab": {
          "base_uri": "https://localhost:8080/"
        },
        "id": "ZsQsnom4w6ws",
        "outputId": "f5465ec8-414d-4ed1-96e7-40a0c93159ae"
      },
      "execution_count": null,
      "outputs": [
        {
          "output_type": "stream",
          "name": "stdout",
          "text": [
            "['Riquelme', 'Benicio', 'David', 'Vinicius', 'Eduardo', 'Joaquim']\n"
          ]
        }
      ]
    },
    {
      "cell_type": "code",
      "source": [
        "#Como Inseriri algo na lista em um lugar em especifico\n",
        "\n",
        "alunos = [\"Riquelme\", \"Benicio\", \"David\", \"Vinicius\", \"Eduardo\"]\n",
        "alunos.insert(2, \"Arthur\")\n",
        "print(alunos)"
      ],
      "metadata": {
        "colab": {
          "base_uri": "https://localhost:8080/"
        },
        "id": "tOdVR8MkybHM",
        "outputId": "0dca9bd1-3bef-4b00-bfbb-228b0a167d5f"
      },
      "execution_count": null,
      "outputs": [
        {
          "output_type": "stream",
          "name": "stdout",
          "text": [
            "['Riquelme', 'Benicio', 'Arthur', 'David', 'Vinicius', 'Eduardo']\n"
          ]
        }
      ]
    },
    {
      "cell_type": "code",
      "source": [
        "#Como remover itens de uma lista\n",
        "\n",
        "alunos = [\"Riquelme\", \"Benicio\", \"David\", \"Vinicius\", \"Eduardo\"]\n",
        "del alunos[3]\n",
        "print(alunos)"
      ],
      "metadata": {
        "colab": {
          "base_uri": "https://localhost:8080/"
        },
        "id": "5QSLWNtxziXs",
        "outputId": "c3fd50cd-801b-46b8-df50-2851c60d23d3"
      },
      "execution_count": null,
      "outputs": [
        {
          "output_type": "stream",
          "name": "stdout",
          "text": [
            "['Riquelme', 'Benicio', 'David', 'Eduardo']\n"
          ]
        }
      ]
    },
    {
      "cell_type": "code",
      "source": [
        "#Como remover um por um da lista\n",
        "\n",
        "alunos = [\"Riquelme\", \"Benicio\", \"David\", \"Vinicius\", \"Eduardo\"]\n",
        "alunos.pop()\n",
        "print(alunos)"
      ],
      "metadata": {
        "colab": {
          "base_uri": "https://localhost:8080/"
        },
        "id": "E3VYtI7o0P07",
        "outputId": "a7672efb-1312-4fc9-d2eb-1101f2d3e6ed"
      },
      "execution_count": null,
      "outputs": [
        {
          "output_type": "stream",
          "name": "stdout",
          "text": [
            "['Riquelme', 'Benicio', 'David', 'Vinicius']\n"
          ]
        }
      ]
    },
    {
      "cell_type": "code",
      "source": [
        "#Como remover da lista em especifico utilizando o metodo . pop\n",
        "\n",
        "alunos = [\"Riquelme\", \"Benicio\", \"David\", \"Vinicius\", \"Eduardo\"]\n",
        "alunos.pop(1)\n",
        "print(alunos)"
      ],
      "metadata": {
        "colab": {
          "base_uri": "https://localhost:8080/"
        },
        "id": "bfCI_ghj1Kwj",
        "outputId": "865dcd0b-ddd3-4dc3-d695-ee5db340d793"
      },
      "execution_count": null,
      "outputs": [
        {
          "output_type": "stream",
          "name": "stdout",
          "text": [
            "['Riquelme', 'David', 'Vinicius', 'Eduardo']\n"
          ]
        }
      ]
    },
    {
      "cell_type": "code",
      "source": [
        "#Como remover um item sem dizer a sua posicao\n",
        "\n",
        "alunos = [\"Riquelme\", \"Benicio\", \"David\", \"Vinicius\", \"Eduardo\"]\n",
        "alunos.remove(\"Riquelme\")\n",
        "print(alunos)"
      ],
      "metadata": {
        "colab": {
          "base_uri": "https://localhost:8080/"
        },
        "id": "GEX6iDMT6p4h",
        "outputId": "7bda3418-fae8-423a-b222-f896f4fa7b43"
      },
      "execution_count": null,
      "outputs": [
        {
          "output_type": "stream",
          "name": "stdout",
          "text": [
            "['Benicio', 'David', 'Vinicius', 'Eduardo']\n"
          ]
        }
      ]
    },
    {
      "cell_type": "code",
      "source": [
        "#Como remover um item sem dizer a sua posicao\n",
        "\n",
        "alunos = [\"Riquelme\", \"Benicio\", \"David\", \"Vinicius\", \"Eduardo\"]\n",
        "viajando = \"Riquelme\"\n",
        "alunos.remove(viajando)\n",
        "print(alunos)"
      ],
      "metadata": {
        "colab": {
          "base_uri": "https://localhost:8080/"
        },
        "id": "7LdY8Rvb62jh",
        "outputId": "cd1ba716-cd8d-4f5c-e8f2-7d308a91f60d"
      },
      "execution_count": null,
      "outputs": [
        {
          "output_type": "stream",
          "name": "stdout",
          "text": [
            "['Benicio', 'David', 'Vinicius', 'Eduardo']\n"
          ]
        }
      ]
    },
    {
      "cell_type": "code",
      "source": [
        "#Como colocar uma lista em oredem alfabetica\n",
        "alunos = [\"Riquelme\", \"Benicio\", \"David\", \"Vinicius\", \"Eduardo\"]\n",
        "alunos.sort()\n",
        "print(alunos)\n",
        "\n",
        "#Como colocar em oredem inversa\n",
        "alunos = [\"Riquelme\", \"Benicio\", \"David\", \"Vinicius\", \"Eduardo\"]\n",
        "alunos.sort(reverse=True)\n",
        "print(alunos)\n",
        "\n",
        "#O metodo .sort() altera a lista original\n",
        "print(alunos)"
      ],
      "metadata": {
        "colab": {
          "base_uri": "https://localhost:8080/"
        },
        "id": "LjIRXTFz9ZZ5",
        "outputId": "490e7d08-bd1c-4697-e996-11865f0935ec"
      },
      "execution_count": null,
      "outputs": [
        {
          "output_type": "stream",
          "name": "stdout",
          "text": [
            "['Benicio', 'David', 'Eduardo', 'Riquelme', 'Vinicius']\n",
            "['Vinicius', 'Riquelme', 'Eduardo', 'David', 'Benicio']\n",
            "['Vinicius', 'Riquelme', 'Eduardo', 'David', 'Benicio']\n"
          ]
        }
      ]
    },
    {
      "cell_type": "code",
      "source": [
        "#Crie uma lista vazia e em seguida adicione 3 numeros ou palavras a ela, depois imprima a lista\n",
        "lista = []\n",
        "lista.append(1)\n",
        "lista.append(2)\n",
        "lista.append(4)\n",
        "print(lista)"
      ],
      "metadata": {
        "colab": {
          "base_uri": "https://localhost:8080/"
        },
        "id": "sKjD13zlAUYX",
        "outputId": "3b20874d-f22b-41e5-d38a-e448dda9488a"
      },
      "execution_count": null,
      "outputs": [
        {
          "output_type": "stream",
          "name": "stdout",
          "text": [
            "[1, 2, 4]\n"
          ]
        }
      ]
    },
    {
      "cell_type": "code",
      "source": [
        "#crie a lista que está a baixo, depois imprima o primeiro e o ultimo numero da lsita\n",
        "lista = [10, 20, 30, 40, 50]\n",
        "primeiro = lista[0]\n",
        "ultimo = lista[-1]\n",
        "print(\"Primeiro: \",primeiro)\n",
        "print(\"Ultimo: \",ultimo)"
      ],
      "metadata": {
        "colab": {
          "base_uri": "https://localhost:8080/"
        },
        "id": "IvVIkghIAUr4",
        "outputId": "06b23e78-c2e5-4cad-abce-c93324ce6be9"
      },
      "execution_count": null,
      "outputs": [
        {
          "output_type": "stream",
          "name": "stdout",
          "text": [
            "Primeiro:  10\n",
            "Ultimo:  50\n"
          ]
        }
      ]
    },
    {
      "cell_type": "code",
      "source": [
        "#crie a lista que está a baixo e atualize qualquer nome desta lista para outro nome\n",
        "lista = [\"Ana\", \"Caio\", \"Fabio\"]\n",
        "lista[0] = \"Oi\"\n",
        "print(lista)"
      ],
      "metadata": {
        "colab": {
          "base_uri": "https://localhost:8080/"
        },
        "id": "gIP2tvqqAUzt",
        "outputId": "14b11057-989c-4c84-f642-62209919f429"
      },
      "execution_count": null,
      "outputs": [
        {
          "output_type": "stream",
          "name": "stdout",
          "text": [
            "['Oi', 'Caio', 'Fabio']\n"
          ]
        }
      ]
    },
    {
      "cell_type": "markdown",
      "source": [
        "#CONDICIONAIS"
      ],
      "metadata": {
        "id": "q6INDtEOvlD3"
      }
    },
    {
      "cell_type": "code",
      "source": [
        "#OPERADORES DE COMPARACAO\n",
        "\n",
        "#IGUALDADE / ==\n",
        "#DIFERENTE / !=\n",
        "#MAIOR E MAIOR OU IGUAL / > E >=\n",
        "#MENOR E MENOR OU IGUAL / < E <=\n",
        "\n",
        "#IGUALDADE\n",
        "n1 = 10\n",
        "n2 = 50\n",
        "texto1 = \"santos\"\n",
        "texto2 = \"sao jose\"\n",
        "\n",
        "print(n1 == n2)\n",
        "print(n1 * 5 == n2)\n",
        "print(texto1 == texto2)\n",
        "print(\"-----------------------\")\n",
        "\n",
        "#DIFERENTE\n",
        "print(n1 != n2)\n",
        "print(n1 * 5 != n2)\n",
        "print(texto1 != texto2)\n",
        "print(\"-----------------------\")\n",
        "\n",
        "#MAIOR E MAIOR OU IGUAL\n",
        "print(n1 > n2)\n",
        "print(n1 * 5 > n2)\n",
        "print(n1 * 5 >= n2)\n",
        "print(\"-----------------------\")\n",
        "\n",
        "#MENOR E MENOR OU IGUAL\n",
        "print(n1 < n2)\n",
        "print(n1 * 5 < n2)\n",
        "print(n1 * 5 <= n2)"
      ],
      "metadata": {
        "colab": {
          "base_uri": "https://localhost:8080/"
        },
        "id": "_hr-noAovnxQ",
        "outputId": "99b39680-82d0-4fb8-b9c8-0b6ed2ab30d5"
      },
      "execution_count": null,
      "outputs": [
        {
          "output_type": "stream",
          "name": "stdout",
          "text": [
            "False\n",
            "True\n",
            "False\n",
            "-----------------------\n",
            "True\n",
            "False\n",
            "True\n",
            "-----------------------\n",
            "False\n",
            "False\n",
            "True\n",
            "-----------------------\n",
            "True\n",
            "False\n",
            "True\n"
          ]
        }
      ]
    },
    {
      "cell_type": "code",
      "source": [
        "#OPERADORES EM CADEIA\n",
        "#AND / Todas as condicoes precisam ser verdadeiras\n",
        "print( 1 < 2 < 3)\n",
        "\n",
        "#o mesmo que 1 < 2 < 3\n",
        "print( 1 < 2 and 2 < 3)\n",
        "\n",
        "print(1 < 2 and 2 < 3 and 3 > 4)\n",
        "print(\"--------------\")\n",
        "\n",
        "#OR / Uma condicao somente precisa ser verdadeira\n",
        "\n",
        "print( 1 > 2 or 1 < 2)"
      ],
      "metadata": {
        "colab": {
          "base_uri": "https://localhost:8080/"
        },
        "id": "vYXgjXlf1Dqz",
        "outputId": "00ab2eaa-25c5-4cef-833b-767a92b0ae09"
      },
      "execution_count": null,
      "outputs": [
        {
          "output_type": "stream",
          "name": "stdout",
          "text": [
            "True\n",
            "True\n",
            "False\n",
            "--------------\n",
            "True\n"
          ]
        }
      ]
    },
    {
      "cell_type": "markdown",
      "source": [
        "#CONDICIONAIS IF / ELIF / ELSE"
      ],
      "metadata": {
        "id": "mSOT3jYt4IJC"
      }
    },
    {
      "cell_type": "code",
      "source": [
        "#IF = SE\n",
        "#ELIF = SENAO\n",
        "#ELSE = ENTAO\n",
        "\n",
        "nota = float(input(\"Digite a sua nota: \"))\n",
        "\n",
        "if nota >= 6:\n",
        "  print(\"Aprovado\")\n",
        "elif nota >= 4 and nota < 6:\n",
        "  print(\"REC\")\n",
        "else:\n",
        "  print(\"Reprovado\")\n"
      ],
      "metadata": {
        "colab": {
          "base_uri": "https://localhost:8080/"
        },
        "id": "xjp3lyIC4MCZ",
        "outputId": "376ba093-734a-4a24-c442-d2978740440b"
      },
      "execution_count": null,
      "outputs": [
        {
          "output_type": "stream",
          "name": "stdout",
          "text": [
            "Digite a sua nota: 3.9\n",
            "Reprovado\n"
          ]
        }
      ]
    },
    {
      "cell_type": "code",
      "source": [
        "#Programa de verificacao de idade\n",
        "\n",
        "idade = float(input(\"Qual é a sua idade: \"))\n",
        "\n",
        "if idade >= 18:\n",
        "  print(\"Voce é maior de idade\")\n",
        "else:\n",
        "  print(\"Voce é menor de idade\")"
      ],
      "metadata": {
        "colab": {
          "base_uri": "https://localhost:8080/"
        },
        "id": "ejmlem7ZAlvk",
        "outputId": "eef77059-5263-41ef-d926-f09cfc7a4c67"
      },
      "execution_count": null,
      "outputs": [
        {
          "output_type": "stream",
          "name": "stdout",
          "text": [
            "Qual é a sua idade: 6\n",
            "Voce é menor de idade\n"
          ]
        }
      ]
    },
    {
      "cell_type": "code",
      "source": [
        "#Escreva um programa que pergunte ao usuário um número e, em seguida, imprima se o número é positivo, negativo ou zero.\n",
        "\n",
        "numero = float(input(\"Digite um numero: \"))\n",
        "\n",
        "if numero > 0:\n",
        "  print(\"Numero é maior que 0\")\n",
        "elif numero < 0:\n",
        "  print(\"Numero é menor que 0\")\n",
        "else:\n",
        "  print(\"Numeor é igual a 0\")"
      ],
      "metadata": {
        "colab": {
          "base_uri": "https://localhost:8080/"
        },
        "id": "L2MFfQjZBrjD",
        "outputId": "fec13e4f-c53a-4229-f6d6-b8de5692f683"
      },
      "execution_count": null,
      "outputs": [
        {
          "output_type": "stream",
          "name": "stdout",
          "text": [
            "Digite um numero: 90\n",
            "Numero é maior que 0\n"
          ]
        }
      ]
    },
    {
      "cell_type": "markdown",
      "source": [
        "#ESTRUTURAS DE REPETIÇÃO"
      ],
      "metadata": {
        "id": "ny-CtOoz57rw"
      }
    },
    {
      "cell_type": "code",
      "source": [
        "#FOR\n",
        "numeros = [1,2,3,4,5,6,7,8,9,10]\n",
        "\n",
        "for i in numeros:\n",
        "  print(i)"
      ],
      "metadata": {
        "colab": {
          "base_uri": "https://localhost:8080/"
        },
        "id": "0oDobrUl6IOI",
        "outputId": "dfaf0e66-f6b5-4ced-bb6b-0946c4b26ce7"
      },
      "execution_count": null,
      "outputs": [
        {
          "output_type": "stream",
          "name": "stdout",
          "text": [
            "1\n",
            "2\n",
            "3\n",
            "4\n",
            "5\n",
            "6\n",
            "7\n",
            "8\n",
            "9\n",
            "10\n"
          ]
        }
      ]
    },
    {
      "cell_type": "code",
      "source": [
        "for i in range(1,11):\n",
        "  print(i)"
      ],
      "metadata": {
        "colab": {
          "base_uri": "https://localhost:8080/"
        },
        "id": "mdle4u2XBI-f",
        "outputId": "e6266b6d-c6d4-4368-829c-64a54fbc03af"
      },
      "execution_count": null,
      "outputs": [
        {
          "output_type": "stream",
          "name": "stdout",
          "text": [
            "1\n",
            "2\n",
            "3\n",
            "4\n",
            "5\n",
            "6\n",
            "7\n",
            "8\n",
            "9\n",
            "10\n"
          ]
        }
      ]
    },
    {
      "cell_type": "code",
      "source": [
        "for num in range(1,11):\n",
        "  if num %2 == 0:\n",
        "    print(num)"
      ],
      "metadata": {
        "colab": {
          "base_uri": "https://localhost:8080/"
        },
        "id": "eIaOqHioCAme",
        "outputId": "d765c6d6-c1ab-4682-a122-d26d9704b3cb"
      },
      "execution_count": null,
      "outputs": [
        {
          "output_type": "stream",
          "name": "stdout",
          "text": [
            "2\n",
            "4\n",
            "6\n",
            "8\n",
            "10\n"
          ]
        }
      ]
    },
    {
      "cell_type": "code",
      "source": [
        "for letra in \"Riquelme\":\n",
        "  print(letra)"
      ],
      "metadata": {
        "colab": {
          "base_uri": "https://localhost:8080/"
        },
        "id": "Y6BtA4CpD4jv",
        "outputId": "ea052a76-2671-4560-f766-b2e30da15588"
      },
      "execution_count": null,
      "outputs": [
        {
          "output_type": "stream",
          "name": "stdout",
          "text": [
            "R\n",
            "i\n",
            "q\n",
            "u\n",
            "e\n",
            "l\n",
            "m\n",
            "e\n"
          ]
        }
      ]
    },
    {
      "cell_type": "code",
      "source": [
        "for num in range(2,21):\n",
        "  e_primo = True\n",
        "\n",
        "  for num_teste in range(2, num):\n",
        "    if num % num_teste == 0:\n",
        "      e_primo = False\n",
        "      break\n",
        "\n",
        "  if(e_primo):\n",
        "    print(\"É primo: \",num)\n",
        "  else:\n",
        "    print(\"Não é primo: \",num)\n"
      ],
      "metadata": {
        "colab": {
          "base_uri": "https://localhost:8080/"
        },
        "id": "dBPvgdi6ETB0",
        "outputId": "cf7229e0-d6ac-47c2-e054-70ebccbb2d85"
      },
      "execution_count": null,
      "outputs": [
        {
          "output_type": "stream",
          "name": "stdout",
          "text": [
            "É primo:  2\n",
            "É primo:  3\n",
            "Não é primo:  4\n",
            "É primo:  5\n",
            "Não é primo:  6\n",
            "É primo:  7\n",
            "Não é primo:  8\n",
            "Não é primo:  9\n",
            "Não é primo:  10\n",
            "É primo:  11\n",
            "Não é primo:  12\n",
            "É primo:  13\n",
            "Não é primo:  14\n",
            "Não é primo:  15\n",
            "Não é primo:  16\n",
            "É primo:  17\n",
            "Não é primo:  18\n",
            "É primo:  19\n",
            "Não é primo:  20\n"
          ]
        }
      ]
    },
    {
      "cell_type": "code",
      "source": [
        "from textwrap import wrap\n",
        "#WHILE\n",
        "\n",
        "n = 10\n",
        "\n",
        "while(n > 0):\n",
        "  print(n)\n",
        "  n = n - 1\n",
        "print(\"Encerrou\")"
      ],
      "metadata": {
        "colab": {
          "base_uri": "https://localhost:8080/"
        },
        "id": "OpE-AHJUG02L",
        "outputId": "b11e7cf4-8097-421f-a700-ddedafceeddc"
      },
      "execution_count": null,
      "outputs": [
        {
          "output_type": "stream",
          "name": "stdout",
          "text": [
            "10\n",
            "9\n",
            "8\n",
            "7\n",
            "6\n",
            "5\n",
            "4\n",
            "3\n",
            "2\n",
            "1\n",
            "Encerrou\n"
          ]
        }
      ]
    },
    {
      "cell_type": "markdown",
      "source": [
        "#OUTROS TIPOS DE LISTAS"
      ],
      "metadata": {
        "id": "w048xa4Nz7fp"
      }
    },
    {
      "cell_type": "code",
      "source": [
        "#Lists\n",
        "\n",
        "#Sao ordenados\n",
        "#pode ter qualquer tipo de dado\n",
        "#acessada por indicies a partir de 0\n",
        "#sao muitaveis, ou seja, podem ser modificadas depois de criadas\n",
        "#sao definidos por []\n",
        "\n",
        "meu_list = [1,2,3,4,5]\n",
        "\n",
        "#SETS\n",
        "\n",
        "#Nao sao ordenadas\n",
        "#Nao temos valores duplicados\n",
        "#a lista nao possui indicie\n",
        "#sao mutaveis, podemos adicionar e remover itens\n",
        "#sao definidos utilizando {}\n",
        "\n",
        "meus_sets = {1,2,3,4,5}\n",
        "\n",
        "#Tuples\n",
        "\n",
        "#Sao ordenadas e imutaveis(nao pode alterar nada depois de ser criada)\n",
        "#aceita qualquer tipo de dado\n",
        "#possui indicie\n",
        "#sao defnidas por ()\n",
        "\n",
        "mmeu_tuple = (1,2,3,4,5)\n",
        "\n",
        "#Dictionaries\n",
        "#Sao de pares chave-valor\n",
        "#os elemntos sao acessados por chaves, nao por indicies\n",
        "#as chaves devem ter um valor unico, porem o valor pode se repetir\n",
        "\n",
        "\n",
        "meu_dicionario = {\"senha\": 123, \"senha2\":321}"
      ],
      "metadata": {
        "id": "3pJMJ_KKz-TY"
      },
      "execution_count": null,
      "outputs": []
    },
    {
      "cell_type": "code",
      "source": [
        "#SETS\n",
        "#sao mutaveis e podemos utilizar metodos\n",
        "\n",
        "sets = set()\n",
        "\n",
        "sets.add(1)\n",
        "\n",
        "sets.add(2)\n",
        "\n",
        "print(sets)\n",
        "\n",
        "sets.add(1)\n",
        "#Listas do tipo Sets nao é possivel repetir valores/dados\n",
        "\n",
        "print(sets)"
      ],
      "metadata": {
        "colab": {
          "base_uri": "https://localhost:8080/"
        },
        "id": "TKMZoacT7Fvs",
        "outputId": "66b01579-fd69-403b-dfbc-5cfaa3de3a8b"
      },
      "execution_count": null,
      "outputs": [
        {
          "output_type": "stream",
          "name": "stdout",
          "text": [
            "{1, 2}\n",
            "{1, 2}\n"
          ]
        }
      ]
    },
    {
      "cell_type": "code",
      "source": [
        "a = True\n",
        "b = False\n",
        "\n",
        "#Eu posso (se quiser sim) aplicar valores booleanos a partir de expressoes\n",
        "\n",
        "c = 1 < 2\n",
        "d = 7 > 10\n",
        "\n",
        "print(a,b,c,d)"
      ],
      "metadata": {
        "colab": {
          "base_uri": "https://localhost:8080/"
        },
        "id": "ArJoJAlK87mL",
        "outputId": "1dacd10c-efb4-48d5-d72e-51546cb8c4d8"
      },
      "execution_count": null,
      "outputs": [
        {
          "output_type": "stream",
          "name": "stdout",
          "text": [
            "True False True False\n"
          ]
        }
      ]
    },
    {
      "cell_type": "code",
      "source": [
        "#TUPLAS\n",
        "#varios tipos de dados\n",
        "tupla = ('um', 2, 'tres', True, 4.5, 'cinco ponto seis', False)\n",
        "\n",
        "print(tupla[2])\n",
        "print(tupla[2:5])\n",
        "print(\"--------------------------------------\")\n",
        "\n",
        "tupla2 = (1,2,2,3,3,3,4,4,4,4)\n",
        "\n",
        "#metodos que consguimos utilizar\n",
        "print(len(tupla2))\n",
        "print(tupla2.count(4))\n",
        "\n",
        "#nao conseguimos utilizar pois uma tupla é imutavel\n",
        "#append\n",
        "#pop\n",
        "#remove\n",
        "#index"
      ],
      "metadata": {
        "colab": {
          "base_uri": "https://localhost:8080/"
        },
        "id": "o-a6M8WB90iQ",
        "outputId": "ddc4fac2-de72-4b77-cfab-447f668c0c56"
      },
      "execution_count": null,
      "outputs": [
        {
          "output_type": "stream",
          "name": "stdout",
          "text": [
            "tres\n",
            "('tres', True, 4.5)\n",
            "--------------------------------------\n",
            "10\n",
            "4\n"
          ]
        }
      ]
    },
    {
      "cell_type": "code",
      "source": [
        "#Dictionaries\n",
        "#Sao de pares chave-valor\n",
        "#os elemntos sao acessados por chaves, nao por indicies\n",
        "#as chaves devem ter um valor unico, porem o valor pode se repetir\n",
        "\n",
        "dicionario = {'defenestrar':'tacar o benicio pela janela', 'ps5':'R$3500', 'chave1': 3}\n",
        "\n",
        "print(dicionario['defenestrar'])"
      ],
      "metadata": {
        "colab": {
          "base_uri": "https://localhost:8080/"
        },
        "id": "7YfipEHyDsSS",
        "outputId": "7da4106d-8314-4cb2-a1bb-81435cc9de16"
      },
      "execution_count": null,
      "outputs": [
        {
          "output_type": "stream",
          "name": "stdout",
          "text": [
            "tacar o benicio pela janela\n"
          ]
        }
      ]
    },
    {
      "cell_type": "code",
      "source": [
        "# {'chave':[valor1, valor2]}\n",
        "\n",
        "estatisticas = {'cr7':[30,15], 'messi':[2,0], 'caça rato':[90,50]}\n",
        "\n",
        "print(estatisticas['caça rato'][0])\n",
        "\n"
      ],
      "metadata": {
        "colab": {
          "base_uri": "https://localhost:8080/"
        },
        "id": "a61x7t1YGUps",
        "outputId": "b636bd0f-40a1-4da9-ea8a-a6a04b98b76e"
      },
      "execution_count": null,
      "outputs": [
        {
          "output_type": "stream",
          "name": "stdout",
          "text": [
            "90\n"
          ]
        }
      ]
    },
    {
      "cell_type": "code",
      "source": [
        "#desafio aula 4\n",
        "# Definindo o dicionário com os códigos e os preços dos itens\n",
        "tabela_precos = {\n",
        "    1: 4.00,\n",
        "    2: 4.50,\n",
        "    3: 5.00,\n",
        "    4: 2.00,\n",
        "    5: 1.50\n",
        "}\n",
        "\n",
        "# Lendo o código do item e a quantidade\n",
        "codigo_item = int(input(\"Digite o codigo do item: \"))\n",
        "quantidade = int(input(\"Digite a quantidade: \"))\n",
        "\n",
        "#Verificando se o codigo do item é valido\n",
        "if codigo_item in tabela_precos:\n",
        "  #calculando o valor total a ser pago\n",
        "  valor_total = tabela_precos[codigo_item] * quantidade\n",
        "\n",
        "  #formatando a saida com duas casas decimais\n",
        "  valor_formatado = round(valor_total, 2)\n",
        "\n",
        "  #imprimindo o valor total a ser pago\n",
        "  print(\"Total: R$\",valor_formatado)\n",
        "else:\n",
        "  print(\"Codigo de item invalido\")\n"
      ],
      "metadata": {
        "colab": {
          "base_uri": "https://localhost:8080/"
        },
        "id": "QHs8RCFBLNEF",
        "outputId": "f4a50fb0-0e63-4b68-e68e-514aabc139d0"
      },
      "execution_count": null,
      "outputs": [
        {
          "output_type": "stream",
          "name": "stdout",
          "text": [
            "Digite o codigo do item: 9\n",
            "Digite a quantidade: 1\n",
            "Codigo de item invalido\n"
          ]
        }
      ]
    },
    {
      "cell_type": "markdown",
      "source": [
        "#FUNCOES\n"
      ],
      "metadata": {
        "id": "Oj31FJV75dqh"
      }
    },
    {
      "cell_type": "code",
      "source": [
        "def bem_vindo():\n",
        "  print(\"Seja bem vindo \")\n",
        "\n",
        "bem_vindo()"
      ],
      "metadata": {
        "colab": {
          "base_uri": "https://localhost:8080/"
        },
        "id": "dw0gnNW_5fay",
        "outputId": "80e08357-2cb5-4c0f-b7d2-f0a0cbc2db55"
      },
      "execution_count": null,
      "outputs": [
        {
          "output_type": "stream",
          "name": "stdout",
          "text": [
            "Seja bem vindo \n"
          ]
        }
      ]
    },
    {
      "cell_type": "code",
      "source": [
        "def boas_vindas(nomeDeUsuario):\n",
        "  print(\"Seja bem-vindo, a aula\", nomeDeUsuario)\n",
        "\n",
        "boas_vindas(\"CR7\")\n",
        "\n",
        "def boas_vindas2(nomeDeUsuario):\n",
        "  print(\"Seja bem-vindo, a aula %s\" % (nomeDeUsuario))\n",
        "\n",
        "boas_vindas(\"CR7\")"
      ],
      "metadata": {
        "colab": {
          "base_uri": "https://localhost:8080/"
        },
        "id": "6jWTJvxW7L4S",
        "outputId": "2df33532-5e31-46fb-ddfe-d93ca6aef127"
      },
      "execution_count": null,
      "outputs": [
        {
          "output_type": "stream",
          "name": "stdout",
          "text": [
            "Seja bem-vindo, a aula CR7\n",
            "Seja bem-vindo, a aula CR7\n"
          ]
        }
      ]
    },
    {
      "cell_type": "code",
      "source": [
        "# Crie uma funçao chamada filme_favorito() que aceita um parametro chamado \"titulo\"\n",
        "#e a funcao deve exibir a mensagem \"Um dos meus filmes favoritos é .......\""
      ],
      "metadata": {
        "id": "gwcULaoD-kma"
      },
      "execution_count": null,
      "outputs": []
    },
    {
      "cell_type": "code",
      "source": [
        "# a formula da velocidade é V = D/T\n",
        "\n",
        "def velocidade(distancia, tempo):\n",
        "  velocidade = distancia // tempo\n",
        "  print(\"A sua velocidade é de: %d\" % (velocidade))\n",
        "\n",
        "velocidade(100, 20)\n",
        "\n",
        "def velocidade(tempo, distancia = 100):\n",
        "  velocidade = distancia // tempo\n",
        "  print(\"A sua velocidade é de: %d\" % (velocidade))\n",
        "\n",
        "velocidade(20)"
      ],
      "metadata": {
        "colab": {
          "base_uri": "https://localhost:8080/"
        },
        "id": "hNOrQ41FBefT",
        "outputId": "8a4ef17b-613b-4596-8782-c81a69a3bd9a"
      },
      "execution_count": null,
      "outputs": [
        {
          "output_type": "stream",
          "name": "stdout",
          "text": [
            "A sua velocidade é de: 5\n",
            "A sua velocidade é de: 5\n"
          ]
        }
      ]
    },
    {
      "cell_type": "code",
      "source": [
        "def menor(a, b):\n",
        "  if a<=b:\n",
        "    return a\n",
        "  else:\n",
        "    return b"
      ],
      "metadata": {
        "id": "yuoteQpPEv8V"
      },
      "execution_count": null,
      "outputs": []
    },
    {
      "cell_type": "code",
      "source": [
        "a = int(input(\"Digite o primeiro numero: \"))\n",
        "b = int(input(\"Digite o segundo numero: \"))\n",
        "\n",
        "print(\"O menor valor entre %d e %d é %d\" % (a, b, menor(a, b)))"
      ],
      "metadata": {
        "id": "kJxBtA51MbfP"
      },
      "execution_count": null,
      "outputs": []
    },
    {
      "cell_type": "code",
      "source": [],
      "metadata": {
        "id": "yCdrXTfbMO-W"
      },
      "execution_count": null,
      "outputs": []
    },
    {
      "cell_type": "markdown",
      "source": [
        "#MODULOS\n",
        "\n"
      ],
      "metadata": {
        "id": "tRz6haAZAYL6"
      }
    },
    {
      "cell_type": "code",
      "source": [
        "#importando um modulo\n",
        "import math"
      ],
      "metadata": {
        "id": "pU8OT0LfAiGH"
      },
      "execution_count": null,
      "outputs": []
    },
    {
      "cell_type": "code",
      "source": [
        "#2 elevado a 3\n",
        "print(math.pow(2,3))\n",
        "\n",
        "#arrendondando valores\n",
        "print(math.ceil(2.5))#arredondar pra cima\n",
        "print(math.trunc(2.5))#arredonda pra baixo"
      ],
      "metadata": {
        "colab": {
          "base_uri": "https://localhost:8080/"
        },
        "id": "bdR_RhVSBgT_",
        "outputId": "4c8d6ad6-6568-4364-e010-490af886f4e2"
      },
      "execution_count": null,
      "outputs": [
        {
          "output_type": "stream",
          "name": "stdout",
          "text": [
            "8.0\n",
            "3\n",
            "2\n"
          ]
        }
      ]
    },
    {
      "cell_type": "code",
      "source": [
        "#Como ler todas as funções de um modulo\n",
        "print(dir(math))"
      ],
      "metadata": {
        "colab": {
          "base_uri": "https://localhost:8080/"
        },
        "id": "Zn7un7shCa2f",
        "outputId": "b65d151c-65b5-4989-ef49-f40d63414e03"
      },
      "execution_count": null,
      "outputs": [
        {
          "output_type": "stream",
          "name": "stdout",
          "text": [
            "['__doc__', '__loader__', '__name__', '__package__', '__spec__', 'acos', 'acosh', 'asin', 'asinh', 'atan', 'atan2', 'atanh', 'ceil', 'comb', 'copysign', 'cos', 'cosh', 'degrees', 'dist', 'e', 'erf', 'erfc', 'exp', 'expm1', 'fabs', 'factorial', 'floor', 'fmod', 'frexp', 'fsum', 'gamma', 'gcd', 'hypot', 'inf', 'isclose', 'isfinite', 'isinf', 'isnan', 'isqrt', 'lcm', 'ldexp', 'lgamma', 'log', 'log10', 'log1p', 'log2', 'modf', 'nan', 'nextafter', 'perm', 'pi', 'pow', 'prod', 'radians', 'remainder', 'sin', 'sinh', 'sqrt', 'tan', 'tanh', 'tau', 'trunc', 'ulp']\n"
          ]
        }
      ]
    },
    {
      "cell_type": "code",
      "source": [
        "print(math.radians(756587578567))"
      ],
      "metadata": {
        "colab": {
          "base_uri": "https://localhost:8080/"
        },
        "id": "AGMTnLl3DJo4",
        "outputId": "bb6e1bdf-6955-4a56-f6e7-1051cafb44c5"
      },
      "execution_count": null,
      "outputs": [
        {
          "output_type": "stream",
          "name": "stdout",
          "text": [
            "13204944325.68543\n"
          ]
        }
      ]
    },
    {
      "cell_type": "code",
      "source": [
        "from google.colab import drive\n",
        "drive.mount('/content/gdrive')"
      ],
      "metadata": {
        "colab": {
          "base_uri": "https://localhost:8080/"
        },
        "id": "CioihtrpIViX",
        "outputId": "f6a22a3b-65fb-46b5-f93d-9c0acf1174ac"
      },
      "execution_count": null,
      "outputs": [
        {
          "output_type": "stream",
          "name": "stdout",
          "text": [
            "Drive already mounted at /content/gdrive; to attempt to forcibly remount, call drive.mount(\"/content/gdrive\", force_remount=True).\n"
          ]
        }
      ]
    },
    {
      "cell_type": "code",
      "source": [
        "import sys\n",
        "\n",
        "sys.path.insert(0, '/content/gdrive/MyDrive/modulos')"
      ],
      "metadata": {
        "id": "U4lybPhkK3ME"
      },
      "execution_count": null,
      "outputs": []
    },
    {
      "cell_type": "code",
      "source": [
        "import calculadora"
      ],
      "metadata": {
        "id": "NKHQRoHaNZad"
      },
      "execution_count": null,
      "outputs": []
    },
    {
      "cell_type": "code",
      "source": [
        "calculadora.mult(9,13)"
      ],
      "metadata": {
        "colab": {
          "base_uri": "https://localhost:8080/"
        },
        "id": "6z7ylnQDN3xp",
        "outputId": "f9484904-8a43-4a02-81f3-9b7ed3792a58"
      },
      "execution_count": null,
      "outputs": [
        {
          "output_type": "execute_result",
          "data": {
            "text/plain": [
              "117"
            ]
          },
          "metadata": {},
          "execution_count": 26
        }
      ]
    },
    {
      "cell_type": "markdown",
      "source": [
        "#ARQUIVOS\n"
      ],
      "metadata": {
        "id": "xvhdAgf6SKY8"
      }
    },
    {
      "cell_type": "code",
      "source": [
        "%%writefile texto.txt\n",
        "\n",
        "Fulano faz isso\n",
        "eu jogo roblox\n",
        "fulano2 é palmeirense\n",
        "ciclano ja ganhou na mega sena\n",
        "vinicius joga fute"
      ],
      "metadata": {
        "colab": {
          "base_uri": "https://localhost:8080/"
        },
        "id": "a1br2bUiSOCb",
        "outputId": "e9239906-3951-456c-ccfb-8a2b360506ff"
      },
      "execution_count": null,
      "outputs": [
        {
          "output_type": "stream",
          "name": "stdout",
          "text": [
            "Overwriting texto.txt\n"
          ]
        }
      ]
    },
    {
      "cell_type": "code",
      "source": [
        "# Abre um arquivo txt já existente\n",
        "\n",
        "arquivo = open('texto.txt')"
      ],
      "metadata": {
        "id": "I9YOVDQSSpr1"
      },
      "execution_count": null,
      "outputs": []
    },
    {
      "cell_type": "code",
      "source": [
        "#lê todo o arquivo\n",
        "arquivo.read()"
      ],
      "metadata": {
        "colab": {
          "base_uri": "https://localhost:8080/",
          "height": 36
        },
        "id": "HvmBaZusTUiC",
        "outputId": "799e7f60-f669-4150-8bec-34a3e67a2d1b"
      },
      "execution_count": null,
      "outputs": [
        {
          "output_type": "execute_result",
          "data": {
            "text/plain": [
              "''"
            ],
            "application/vnd.google.colaboratory.intrinsic+json": {
              "type": "string"
            }
          },
          "metadata": {},
          "execution_count": 31
        }
      ]
    },
    {
      "cell_type": "code",
      "source": [
        "#lê todo o arquivo denovo\n",
        "arquivo.read()"
      ],
      "metadata": {
        "colab": {
          "base_uri": "https://localhost:8080/",
          "height": 36
        },
        "id": "PPX-x9evTr4_",
        "outputId": "69e68d05-5b26-48ab-e801-6995edc32cb7"
      },
      "execution_count": null,
      "outputs": [
        {
          "output_type": "execute_result",
          "data": {
            "text/plain": [
              "''"
            ],
            "application/vnd.google.colaboratory.intrinsic+json": {
              "type": "string"
            }
          },
          "metadata": {},
          "execution_count": 40
        }
      ]
    },
    {
      "cell_type": "code",
      "source": [
        "#Procurando o inicio do arquivo"
      ],
      "metadata": {
        "id": "x19TUEUrUo3h"
      },
      "execution_count": null,
      "outputs": []
    },
    {
      "cell_type": "code",
      "source": [
        "arquivo.seek(0)\n",
        "#Agora a gente le o arquivo do inicio\n",
        "arquivo.read()"
      ],
      "metadata": {
        "colab": {
          "base_uri": "https://localhost:8080/",
          "height": 36
        },
        "id": "oIFt88qRUtLG",
        "outputId": "79dffaf2-2883-4cf2-f370-bc3b8c61da38"
      },
      "execution_count": null,
      "outputs": [
        {
          "output_type": "execute_result",
          "data": {
            "text/plain": [
              "'\\nFulano faz isso\\neu jogo roblox\\nfulano2 é palmeirense\\nciclano ja ganhou na mega sena \\nvinicius joga fute\\n'"
            ],
            "application/vnd.google.colaboratory.intrinsic+json": {
              "type": "string"
            }
          },
          "metadata": {},
          "execution_count": 47
        }
      ]
    },
    {
      "cell_type": "code",
      "source": [
        "%%writefile herois.txt\n",
        "Miranha, Batman, Tortuguita\n",
        "Aranha-venenosa, Gelinho"
      ],
      "metadata": {
        "colab": {
          "base_uri": "https://localhost:8080/"
        },
        "id": "JsCSn-7QVdjj",
        "outputId": "b9f4440d-1b1b-4c42-e0b4-3ac9ec26a557"
      },
      "execution_count": null,
      "outputs": [
        {
          "output_type": "stream",
          "name": "stdout",
          "text": [
            "Overwriting herois.txt\n"
          ]
        }
      ]
    },
    {
      "cell_type": "code",
      "source": [
        "arquivo = open('herois.txt')\n",
        "#Lenho linha por linha\n",
        "print(arquivo.readline())\n",
        "#Lendo segunda linha\n",
        "print(arquivo.readline())"
      ],
      "metadata": {
        "colab": {
          "base_uri": "https://localhost:8080/"
        },
        "id": "wTK9xU--Vh1y",
        "outputId": "103c55ab-0bb5-46cd-eb13-3d2ce976b727"
      },
      "execution_count": null,
      "outputs": [
        {
          "output_type": "stream",
          "name": "stdout",
          "text": [
            "Miranha, Batman, Tortuguita\n",
            "\n",
            "Aranha-venenosa, Gelinho\n",
            "\n"
          ]
        }
      ]
    },
    {
      "cell_type": "code",
      "source": [
        "from pathlib import PureWindowsPath\n",
        "#lendo o arquivo inteiro com for\n",
        "arquivo = open('herois.txt', 'r')\n",
        "\n",
        "for x in arquivo:\n",
        "   print(x)"
      ],
      "metadata": {
        "colab": {
          "base_uri": "https://localhost:8080/"
        },
        "id": "-3IwSInBW7p1",
        "outputId": "42a9b717-76cb-44c1-d945-d36d614a194c"
      },
      "execution_count": null,
      "outputs": [
        {
          "output_type": "stream",
          "name": "stdout",
          "text": [
            "Miranha, Batman, Tortuguita\n",
            "\n",
            "Aranha-venenosa, Gelinho\n",
            "\n"
          ]
        }
      ]
    },
    {
      "cell_type": "code",
      "source": [
        "#Adiciona um segundo argumento a função w, para escrita\n",
        "arquivo = open('herois.txt', 'w')"
      ],
      "metadata": {
        "id": "eRzfBGEaYCcL"
      },
      "execution_count": null,
      "outputs": []
    },
    {
      "cell_type": "code",
      "source": [
        "#escrever no arquivo\n",
        "arquivo.write('latão, vencivel')"
      ],
      "metadata": {
        "colab": {
          "base_uri": "https://localhost:8080/"
        },
        "id": "RTMOC8JzYUtR",
        "outputId": "e2c2b9d6-3042-49c8-97ca-dfbc6a2ac541"
      },
      "execution_count": null,
      "outputs": [
        {
          "output_type": "execute_result",
          "data": {
            "text/plain": [
              "15"
            ]
          },
          "metadata": {},
          "execution_count": 79
        }
      ]
    },
    {
      "cell_type": "code",
      "source": [
        "arquivo = open('herois.txt')\n",
        "arquivo.seek(0)\n",
        "arquivo.read()"
      ],
      "metadata": {
        "colab": {
          "base_uri": "https://localhost:8080/",
          "height": 36
        },
        "id": "xZ4J5vuvYlQZ",
        "outputId": "90b6b8cd-84a3-438d-b5a8-a33fd656be64"
      },
      "execution_count": null,
      "outputs": [
        {
          "output_type": "execute_result",
          "data": {
            "text/plain": [
              "'latão, vencivel'"
            ],
            "application/vnd.google.colaboratory.intrinsic+json": {
              "type": "string"
            }
          },
          "metadata": {},
          "execution_count": 82
        }
      ]
    },
    {
      "cell_type": "code",
      "source": [
        "arquivo = open('herois.txt')"
      ],
      "metadata": {
        "id": "zNOmuTV0ZsWt"
      },
      "execution_count": null,
      "outputs": []
    },
    {
      "cell_type": "code",
      "source": [
        "\n",
        "\n",
        "def validar_senha(senha):\n",
        "  caracteres_especiais = \"!@#$%^&*()-+\"\n",
        "  if len(senha) > 8 and any(char in caracteres_especiais for char in senha):\n",
        "    return True\n",
        "  else:\n",
        "    return False\n",
        "senha1 = input(\"Digite sua senha:\")\n",
        "\n",
        "validar_senha(senha1)"
      ],
      "metadata": {
        "id": "3uDTcqjXZyhI"
      },
      "execution_count": null,
      "outputs": []
    }
  ]
}