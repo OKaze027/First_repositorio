{
  "nbformat": 4,
  "nbformat_minor": 0,
  "metadata": {
    "colab": {
      "provenance": [],
      "authorship_tag": "ABX9TyMiMbcYriwvKMklmrX91G9h",
      "include_colab_link": true
    },
    "kernelspec": {
      "name": "python3",
      "display_name": "Python 3"
    },
    "language_info": {
      "name": "python"
    }
  },
  "cells": [
    {
      "cell_type": "markdown",
      "metadata": {
        "id": "view-in-github",
        "colab_type": "text"
      },
      "source": [
        "<a href=\"https://colab.research.google.com/github/OKaze027/First_repositorio/blob/main/teste2.ipynb\" target=\"_parent\"><img src=\"https://colab.research.google.com/assets/colab-badge.svg\" alt=\"Open In Colab\"/></a>"
      ]
    },
    {
      "cell_type": "code",
      "execution_count": null,
      "metadata": {
        "id": "EDn465hiFAbX"
      },
      "outputs": [],
      "source": [
        "# Calculadora Simples: Peça aos alunos para criar uma calculadora que pode realizar operações básicas como adição, subtração, multiplicação e divisão.\n",
        "\n",
        "# Tabuada: Peça aos alunos para escrever um programa que gere a tabuada de um número fornecido pelo usuário.\n",
        "\n",
        "# Verificador de Números Primos: Peça aos alunos para criar um programa que verifica se um número fornecido pelo usuário é primo ou não.\n",
        "\n",
        "# Jogo de Adivinhação: Crie um jogo onde o programa escolhe um número aleatório e o jogador tem que adivinhar qual é esse número. Dê dicas ao jogador conforme ele faz suas tentativas.\n",
        "\n",
        "# Lista de Compras: Peça aos alunos para criar um programa que gerencie uma lista de compras, permitindo adicionar, remover e exibir os itens da lista.\n",
        "\n",
        "# Conversor de Temperatura: Peça aos alunos para criar um programa que converta uma temperatura de Celsius para Fahrenheit e vice-versa.\n",
        "\n",
        "# Contador de Palavras: Crie um programa que conte quantas palavras há em uma frase fornecida pelo usuário.\n",
        "\n",
        "# Média de Notas: Peça aos alunos para criar um programa que calcula a média de notas de um aluno em diferentes disciplinas.\n",
        "\n",
        "# Sorteio de Números: Crie um programa que sorteie números aleatórios e os armazene em uma lista, depois peça aos alunos para encontrar o maior e o menor número da lista.\n",
        "\n",
        "# Criador de Listas: Peça aos alunos para criar um programa que permita ao usuário criar e gerenciar listas de itens, como uma lista de tarefas a fazer.\n"
      ]
    },
    {
      "cell_type": "code",
      "source": [
        "# Resposta da pergunta numero [UM('01')]\n",
        "\n",
        "a = int(input(\"Digite um numero \"))\n",
        "b = int(input(\"Digite outro numero \"))\n",
        "def soma(a, b):\n",
        "  resultado = a + b\n",
        "\n",
        "print(a + b)\n",
        "\n",
        "a = int(input(\"Digite um numero \"))\n",
        "b = int(input(\"Digite outro numero \"))\n",
        "def soma(a, b):\n",
        "  resultado = a - b\n",
        "\n",
        "print(a - b)\n",
        "\n",
        "\n",
        "a = int(input(\"Digite um numero \"))\n",
        "b = int(input(\"Digite outro numero \"))\n",
        "def soma(a, b):\n",
        "  resultado = a / b\n",
        "\n",
        "print(a / b)\n",
        "\n",
        "a = int(input(\"Digite um numero \"))\n",
        "b = int(input(\"Digite outro numero \"))\n",
        "def soma(a, b):\n",
        "  resultado = a * b\n",
        "\n",
        "print(a * b)\n"
      ],
      "metadata": {
        "colab": {
          "base_uri": "https://localhost:8080/"
        },
        "id": "KcNEn_RPIJfG",
        "outputId": "c4e74a81-923e-40e9-9941-5109ee2ed05a"
      },
      "execution_count": null,
      "outputs": [
        {
          "output_type": "stream",
          "name": "stdout",
          "text": [
            "Digite um numero 10\n",
            "Digite outro numero 10\n",
            "20\n"
          ]
        }
      ]
    },
    {
      "cell_type": "code",
      "source": [
        "# Resposta da pergunta numero [DOIS('02')]\n",
        "\n",
        "tabuada = int(input(\"Digite o numero da tabuada que deseja \"))\n",
        "\n",
        "for count in range(10):\n",
        "  print(\"%d x %d = %d\" % (tabuada, count+1, tabuada*(count+1)) )"
      ],
      "metadata": {
        "colab": {
          "base_uri": "https://localhost:8080/"
        },
        "id": "LLzDDJh7IZHL",
        "outputId": "e423a4cd-6f4f-4231-bf80-2b8c9c3bdd61"
      },
      "execution_count": null,
      "outputs": [
        {
          "output_type": "stream",
          "name": "stdout",
          "text": [
            "Digite o numero da tabuada que deseja 5\n",
            "5 x 1 = 5\n",
            "5 x 2 = 10\n",
            "5 x 3 = 15\n",
            "5 x 4 = 20\n",
            "5 x 5 = 25\n",
            "5 x 6 = 30\n",
            "5 x 7 = 35\n",
            "5 x 8 = 40\n",
            "5 x 9 = 45\n",
            "5 x 10 = 50\n"
          ]
        }
      ]
    },
    {
      "cell_type": "code",
      "source": [
        "# Resposta da pergunta numero [TRÊS('03')]\n",
        "\n",
        "def primo(numero):\n",
        "    if numero < 2:\n",
        "        return False\n",
        "    for i in range(2, int(numero ** 0.5) + 1):\n",
        "        if numero % i == 0:\n",
        "            return False\n",
        "    return True\n",
        "\n"
      ],
      "metadata": {
        "id": "-U2OiaDOL6cu"
      },
      "execution_count": null,
      "outputs": []
    },
    {
      "cell_type": "code",
      "source": [
        "# Reposta da pergunta numero [QUATRO('04')]\n",
        "\n",
        "import random\n",
        "\n",
        "def jogo_de_adivinhacao():\n",
        "    numero_secreto = random.randint(1, 100)  # Gera um número aleatório entre 1 e 100\n",
        "    tentativas = 0\n",
        "\n",
        "    print(\"Bem-vindo ao jogo de adivinhação!\")\n",
        "    print(\"Tente adivinhar o número secreto, que está entre 1 e 100.\")\n",
        "\n",
        "    while True:\n",
        "        tentativa = int(input(\"Digite um número: \"))\n",
        "        tentativas += 1\n",
        "\n",
        "        if tentativa < numero_secreto:\n",
        "            print(\"O número é maior. Tente novamente!\")\n",
        "        elif tentativa > numero_secreto:\n",
        "            print(\"O número é menor. Tente novamente!\")\n",
        "        else:\n",
        "            print(f\"Parabéns! Você acertou o número secreto em {tentativas} tentativas!\")\n",
        "            break\n",
        "\n",
        "jogo_de_adivinhacao()"
      ],
      "metadata": {
        "colab": {
          "base_uri": "https://localhost:8080/"
        },
        "id": "6H2Hi68-Ngu6",
        "outputId": "e5eb959e-9950-4a9f-98dd-7fb03ed3fccb"
      },
      "execution_count": null,
      "outputs": [
        {
          "output_type": "stream",
          "name": "stdout",
          "text": [
            "Bem-vindo ao jogo de adivinhação!\n",
            "Tente adivinhar o número secreto, que está entre 1 e 100.\n",
            "Digite um número: 50\n",
            "Parabéns! Você acertou o número secreto em 1 tentativas!\n"
          ]
        }
      ]
    },
    {
      "cell_type": "code",
      "source": [
        "# Resposta da pergunta numero [CINCO('05')]\n",
        "\n",
        "def lista_de_compras():\n",
        "    lista_compras = []\n",
        "\n",
        "    while True:\n",
        "        print(\"\\nMenu:\")\n",
        "        print(\"1. Adicionar item à lista de compras\")\n",
        "        print(\"2. Remover item da lista de compras\")\n",
        "        print(\"3. Exibir lista de compras\")\n",
        "        print(\"4. Sair\")\n",
        "\n",
        "        escolha = input(\"Escolha uma opção: \")\n",
        "\n",
        "        if escolha == \"1\":\n",
        "            item = input(\"Digite o item que deseja adicionar à lista de compras: \")\n",
        "            lista_compras.append(item)\n",
        "            print(f\"{item} foi adicionado à lista de compras.\")\n",
        "        elif escolha == \"2\":\n",
        "            item = input(\"Digite o item que deseja remover da lista de compras: \")\n",
        "            if item in lista_compras:\n",
        "                lista_compras.remove(item)\n",
        "                print(f\"{item} foi removido da lista de compras.\")\n",
        "            else:\n",
        "                print(f\"{item} não está na lista de compras.\")\n",
        "        elif escolha == \"3\":\n",
        "            print(\"Lista de compras:\" if lista_compras else \"A lista de compras está vazia.\")\n",
        "            for item in lista_compras:\n",
        "                print(f\"- {item}\")\n",
        "        elif escolha == \"4\":\n",
        "            print(\"Saindo do programa...\")\n",
        "            break\n",
        "\n",
        "lista_de_compras()\n"
      ],
      "metadata": {
        "colab": {
          "base_uri": "https://localhost:8080/"
        },
        "id": "6qciAro0P8j0",
        "outputId": "76f46ede-082b-4a62-ee28-f0d86e18105a"
      },
      "execution_count": null,
      "outputs": [
        {
          "output_type": "stream",
          "name": "stdout",
          "text": [
            "\n",
            "Menu:\n",
            "1. Adicionar item à lista de compras\n",
            "2. Remover item da lista de compras\n",
            "3. Exibir lista de compras\n",
            "4. Sair\n",
            "Escolha uma opção: 4\n",
            "Saindo do programa...\n"
          ]
        }
      ]
    },
    {
      "cell_type": "code",
      "source": [
        "# Resposta da pergunta numero [SEIS('06')]\n",
        "\n",
        "def conversor():\n",
        "    print(\"Conversor de Temperatura\")\n",
        "    print(\"1. Celsius para Fahrenheit\")\n",
        "    print(\"2. Fahrenheit para Celsius\")\n",
        "    escolha = input(\"Escolha uma opção (1 ou 2): \")\n",
        "\n",
        "    if escolha == \"1\":\n",
        "        celsius = float(input(\"Digite a temperatura em Celsius: \"))\n",
        "        print(f\"{celsius}°C equivalem a {celsius * 9/5 + 32}°F.\")\n",
        "    elif escolha == \"2\":\n",
        "        fahrenheit = float(input(\"Digite a temperatura em Fahrenheit: \"))\n",
        "        print(f\"{fahrenheit}°F equivalem a {(fahrenheit - 32) * 5/9}°C.\")\n",
        "\n",
        "conversor()"
      ],
      "metadata": {
        "colab": {
          "base_uri": "https://localhost:8080/"
        },
        "id": "oEDHzAuKStBz",
        "outputId": "83182713-e173-4545-98e2-7755c5c98f6f"
      },
      "execution_count": null,
      "outputs": [
        {
          "name": "stdout",
          "output_type": "stream",
          "text": [
            "Conversor de Temperatura\n",
            "1. Celsius para Fahrenheit\n",
            "2. Fahrenheit para Celsius\n",
            "Escolha uma opção (1 ou 2): 2]\n"
          ]
        }
      ]
    },
    {
      "cell_type": "code",
      "source": [
        "# Resposta da pergunta numero [SETE('07')]\n",
        "\n",
        "def contar(frase):\n",
        "    palavras = frase.split()\n",
        "    return len(palavras)\n",
        "\n",
        "def contador():\n",
        "    frase = input(\"Digite uma frase: \")\n",
        "    numero = contar_palavras(frase)\n",
        "    print(f\"A frase possui {numero} palavra(s).\")\n",
        "\n",
        "contador()"
      ],
      "metadata": {
        "colab": {
          "base_uri": "https://localhost:8080/"
        },
        "id": "87awgBvPTQXq",
        "outputId": "46b31b64-a0b3-4ee5-9812-0c3cc6fa6d46"
      },
      "execution_count": null,
      "outputs": [
        {
          "output_type": "stream",
          "name": "stdout",
          "text": [
            "Digite uma frase: wewr\n",
            "A frase possui 1 palavra(s).\n"
          ]
        }
      ]
    },
    {
      "cell_type": "code",
      "source": [
        "# Resposta da pergunta numero [OITO('08')]\n",
        "\n",
        "def calcular(notas):\n",
        "    total_notas = sum(notas)\n",
        "    media = total_notas / len(notas)\n",
        "    return media\n",
        "\n",
        "def media():\n",
        "    disciplinas = int(input(\"Quantas disciplinas o aluno tem notas? \"))\n",
        "    notas = []\n",
        "\n",
        "    for i in range(disciplinas):\n",
        "        nota = float(input(f\"Digite a nota da disciplina {i + 1}: \"))\n",
        "        notas.append(nota)\n",
        "\n",
        "    media = calcular(notas)\n",
        "    print(f\"A média de notas do aluno é: {media:.2f}\")\n",
        "\n",
        "media()"
      ],
      "metadata": {
        "colab": {
          "base_uri": "https://localhost:8080/"
        },
        "id": "JNcH0t1KVURZ",
        "outputId": "3e086dee-df8f-4b07-96bd-33a4b4252968"
      },
      "execution_count": null,
      "outputs": [
        {
          "output_type": "stream",
          "name": "stdout",
          "text": [
            "Quantas disciplinas o aluno tem notas? 1\n",
            "Digite a nota da disciplina 1: 1\n",
            "A média de notas do aluno é: 1.00\n"
          ]
        }
      ]
    },
    {
      "cell_type": "code",
      "source": [
        "# Resposta da pergunta numero [NOVE('09')]\n",
        "\n",
        "import random\n",
        "\n",
        "def sorteio():\n",
        "    qtd_numeros = int(input(\"Quantos números você deseja sortear? \"))\n",
        "    minimo = int(input(\"Qual é o valor mínimo para o sorteio? \"))\n",
        "    maximo = int(input(\"Qual é o valor máximo para o sorteio? \"))\n",
        "\n",
        "    numeros = [random.randint(minimo, maximo) for _ in range(qtd_numeros)]\n",
        "    print(\"Números sorteados:\", numeros)\n",
        "\n",
        "    print(f\"O maior número sorteado foi: {max(numeros)}\")\n",
        "    print(f\"O menor número sorteado foi: {min(numeros)}\")\n",
        "\n",
        "sorteio()"
      ],
      "metadata": {
        "colab": {
          "base_uri": "https://localhost:8080/"
        },
        "id": "wSSptQ0EWIKa",
        "outputId": "0bddf826-a8f5-453b-a491-57deb26e48d7"
      },
      "execution_count": null,
      "outputs": [
        {
          "output_type": "stream",
          "name": "stdout",
          "text": [
            "Quantos números você deseja sortear? 5\n",
            "Qual é o valor mínimo para o sorteio? 5\n",
            "Qual é o valor máximo para o sorteio? 5\n",
            "Números sorteados: [5, 5, 5, 5, 5]\n",
            "O maior número sorteado foi: 5\n",
            "O menor número sorteado foi: 5\n"
          ]
        }
      ]
    },
    {
      "cell_type": "code",
      "source": [
        "# Resposta da pergunta numero [DEZ('10')]\n",
        "\n",
        "def lista_de_itens():\n",
        "    lista = []\n",
        "\n",
        "    while True:\n",
        "        print(\"\\nMenu:\\n1. Adicionar item\\n2. Remover item\\n3. Exibir lista\\n4. Sair\")\n",
        "        opcao = input(\"Escolha uma opção: \")\n",
        "\n",
        "        if opcao == \"1\":\n",
        "            item = input(\"Digite o item a ser adicionado: \")\n",
        "            lista.append(item)\n",
        "            print(f\"{item} foi adicionado à lista.\")\n",
        "        elif opcao == \"2\":\n",
        "            item = input(\"Digite o item a ser removido: \")\n",
        "            lista.remove(item) if item in lista else print(f\"{item} não está na lista.\")\n",
        "        elif opcao == \"3\":\n",
        "            print(\"Lista de itens:\" if lista else \"A lista está vazia.\")\n",
        "            [print(f\"- {item}\") for item in lista]\n",
        "        elif opcao == \"4\":\n",
        "            print(\"Encerrando o programa...\")\n",
        "            break\n",
        "\n",
        "lista_de_itens()\n"
      ],
      "metadata": {
        "colab": {
          "base_uri": "https://localhost:8080/"
        },
        "id": "jWJ7ojltWiv1",
        "outputId": "4e46209b-eb53-484a-8670-45a0b21ca2d9"
      },
      "execution_count": null,
      "outputs": [
        {
          "output_type": "stream",
          "name": "stdout",
          "text": [
            "\n",
            "Menu:\n",
            "1. Adicionar item\n",
            "2. Remover item\n",
            "3. Exibir lista\n",
            "4. Sair\n",
            "Escolha uma opção: 4\n",
            "Encerrando o programa...\n"
          ]
        }
      ]
    }
  ]
}